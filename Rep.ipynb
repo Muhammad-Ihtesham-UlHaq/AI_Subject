{
  "nbformat": 4,
  "nbformat_minor": 0,
  "metadata": {
    "colab": {
      "provenance": []
    },
    "kernelspec": {
      "name": "python3",
      "display_name": "Python 3"
    },
    "language_info": {
      "name": "python"
    }
  },
  "cells": [
    {
      "cell_type": "markdown",
      "source": [
        "# **Import deque for efficient queue operations**"
      ],
      "metadata": {
        "id": "AgVGRV6OAiO9"
      }
    },
    {
      "cell_type": "code",
      "source": [
        "from collections import deque\n",
        "pakistan_cities = {\n",
        "    'Karachi': ['Hyderabad', 'Quetta'],\n",
        "    'Hyderabad': ['Karachi', 'Sukkur'],\n",
        "    'Sukkur': ['Hyderabad', 'Multan', 'Quetta'],\n",
        "    'Multan': ['Sukkur', 'Lahore'],\n",
        "    'Quetta': ['Karachi', 'Sukkur', 'Islamabad'],\n",
        "    'Lahore': ['Multan', 'Islamabad'],\n",
        "    'Islamabad': ['Lahore', 'Peshawar', 'Quetta'],\n",
        "    'Peshawar': ['Islamabad']\n",
        "}\n"
      ],
      "metadata": {
        "id": "5Pt7cpTQAp9m"
      },
      "execution_count": 2,
      "outputs": []
    },
    {
      "cell_type": "markdown",
      "source": [
        "# **BFS**"
      ],
      "metadata": {
        "id": "QpSOrhkQDCJB"
      }
    },
    {
      "cell_type": "code",
      "source": [
        "def bfs_shortest_path(g, s, G):\n",
        "    queue = deque([[s]])\n",
        "    visited = set()\n",
        "    while queue:\n",
        "        path = queue.popleft()\n",
        "        current_city = path[-1]\n",
        "        if current_city == G:\n",
        "            return path\n",
        "        if current_city not in visited:\n",
        "            visited.add(current_city)\n",
        "\n",
        "    for neighbor in g.get(current_city, []):\n",
        "        new_path = list(path)\n",
        "        new_path.append(neighbor)\n",
        "        queue.append(new_path)\n",
        "    return None"
      ],
      "metadata": {
        "id": "FJMyydRoDERo"
      },
      "execution_count": 5,
      "outputs": []
    },
    {
      "cell_type": "markdown",
      "source": [
        "# **DFS**"
      ],
      "metadata": {
        "id": "5GwKkoifEbmc"
      }
    },
    {
      "cell_type": "code",
      "source": [
        "def dfs_path(graph, start, goal, path=None, visited=None):\n",
        "    if path is None:\n",
        "        path = []\n",
        "    if visited is None:\n",
        "        visited = set()\n",
        "\n",
        "    path.append(start)\n",
        "    visited.add(start)\n",
        "\n",
        "    if start == goal:\n",
        "        return path\n",
        "\n",
        "    for neighbor in graph.get(start, []):\n",
        "        if neighbor not in visited:\n",
        "            result = dfs_path(graph, neighbor, goal, path.copy(), visited)  # keep same visited\n",
        "            if result:\n",
        "                return result\n",
        "    return None\n"
      ],
      "metadata": {
        "id": "Yr8SkIuVEdqo"
      },
      "execution_count": 14,
      "outputs": []
    },
    {
      "cell_type": "markdown",
      "source": [
        "# **Testing the Function**"
      ],
      "metadata": {
        "id": "pefzzqSJHk5M"
      }
    },
    {
      "cell_type": "code",
      "source": [
        "s_city = \"Karachi\"\n",
        "g_city = \"Peshawar\"\n",
        "\n",
        "bfs_result = bfs_shortest_path(pakistan_cities, s_city, g_city)\n",
        "dfs_result = dfs_path(pakistan_cities, s_city, g_city)\n",
        "\n",
        "print(\"BFS Shortest Path from Karachi to Peshawar:\", bfs_result)\n",
        "print(\"DFS Path from Karachi to Peshawar:\", dfs_result)\n",
        "\n"
      ],
      "metadata": {
        "colab": {
          "base_uri": "https://localhost:8080/"
        },
        "id": "TcXZbXuCIWgw",
        "outputId": "be45c90c-d65e-49ad-b2b1-927f2ca5ca98"
      },
      "execution_count": 16,
      "outputs": [
        {
          "output_type": "stream",
          "name": "stdout",
          "text": [
            "BFS Shortest Path from Karachi to Peshawar: None\n",
            "DFS Path from Karachi to Peshawar: ['Karachi', 'Hyderabad', 'Sukkur', 'Multan', 'Lahore', 'Islamabad', 'Peshawar']\n"
          ]
        }
      ]
    }
  ]
}