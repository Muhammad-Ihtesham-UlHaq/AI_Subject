{
  "nbformat": 4,
  "nbformat_minor": 0,
  "metadata": {
    "colab": {
      "provenance": [],
      "collapsed_sections": [
        "XPf83Rlt6PDs",
        "V4VxHgfi6Sro"
      ],
      "toc_visible": true
    },
    "kernelspec": {
      "name": "python3",
      "display_name": "Python 3"
    },
    "language_info": {
      "name": "python"
    }
  },
  "cells": [
    {
      "cell_type": "markdown",
      "source": [
        "# New Section"
      ],
      "metadata": {
        "id": "yhhfrYJv6NyG"
      }
    },
    {
      "cell_type": "markdown",
      "source": [
        "# 1.**Lists**"
      ],
      "metadata": {
        "id": "XPf83Rlt6PDs"
      }
    },
    {
      "cell_type": "code",
      "source": [
        "my_list = [1, 2, 3, 4, 5, 6, 7, 8, 9, 10]\n",
        "print(my_list)\n",
        "\n"
      ],
      "metadata": {
        "colab": {
          "base_uri": "https://localhost:8080/"
        },
        "id": "_89p6OxpAQvf",
        "outputId": "ada76981-8d02-482f-aa09-bf3ce7f75cb0"
      },
      "execution_count": 12,
      "outputs": [
        {
          "output_type": "stream",
          "name": "stdout",
          "text": [
            "[1, 2, 3, 4, 5, 6, 7, 8, 9, 10]\n"
          ]
        }
      ]
    },
    {
      "cell_type": "code",
      "metadata": {
        "colab": {
          "base_uri": "https://localhost:8080/"
        },
        "id": "5d92f877",
        "outputId": "e708b2cf-52ee-4860-b221-c29181382a14"
      },
      "source": [
        "list_sum = sum(my_list)\n",
        "list_min = min(my_list)\n",
        "list_max = max(my_list)\n",
        "\n",
        "print(f\"Sum: {list_sum}\")\n",
        "print(f\"Minimum: {list_min}\")\n",
        "print(f\"Maximum: {list_max}\")\n"
      ],
      "execution_count": 13,
      "outputs": [
        {
          "output_type": "stream",
          "name": "stdout",
          "text": [
            "Sum: 55\n",
            "Minimum: 1\n",
            "Maximum: 10\n"
          ]
        }
      ]
    },
    {
      "cell_type": "code",
      "metadata": {
        "colab": {
          "base_uri": "https://localhost:8080/"
        },
        "id": "2a120298",
        "outputId": "f45c485a-17ea-4ee1-b7bf-80fb53921356"
      },
      "source": [
        "# Sort the list in ascending order\n",
        "my_list.sort()\n",
        "print(f\"List sorted in ascending order: {my_list}\")\n",
        "\n",
        "# Sort the list in descending order\n",
        "my_list.sort(reverse=True)\n",
        "print(f\"List sorted in descending order: {my_list}\")\n"
      ],
      "execution_count": 14,
      "outputs": [
        {
          "output_type": "stream",
          "name": "stdout",
          "text": [
            "List sorted in ascending order: [1, 2, 3, 4, 5, 6, 7, 8, 9, 10]\n",
            "List sorted in descending order: [10, 9, 8, 7, 6, 5, 4, 3, 2, 1]\n"
          ]
        }
      ]
    },
    {
      "cell_type": "code",
      "metadata": {
        "colab": {
          "base_uri": "https://localhost:8080/"
        },
        "id": "e9236511",
        "outputId": "229ee798-31e0-45f1-9885-383c51437d6a"
      },
      "source": [
        "\n",
        "my_list.append(11)\n",
        "print(f\"List after appending 11: {my_list}\")\n",
        "\n",
        "if len(my_list) > 0:\n",
        "  removed_element = my_list.pop(0)\n",
        "  print(f\"List after removing {removed_element}: {my_list}\")\n",
        "else:\n",
        "  print(\"List is empty, cannot remove element.\")"
      ],
      "execution_count": 20,
      "outputs": [
        {
          "output_type": "stream",
          "name": "stdout",
          "text": [
            "List after appending 11: [10, 9, 8, 7, 6, 5, 4, 3, 2, 1, 11]\n",
            "List after removing 10: [9, 8, 7, 6, 5, 4, 3, 2, 1, 11]\n"
          ]
        }
      ]
    },
    {
      "cell_type": "markdown",
      "source": [
        "# 2.**Tuples**"
      ],
      "metadata": {
        "id": "V4VxHgfi6Sro"
      }
    },
    {
      "cell_type": "code",
      "metadata": {
        "colab": {
          "base_uri": "https://localhost:8080/"
        },
        "id": "d6e7e11b",
        "outputId": "15c66916-08ca-479a-b128-511885438d41"
      },
      "source": [
        "fruits_tuple = (\"apple\", \"banana\", \"cherry\", \"date\", \"elderberry\")\n",
        "print(fruits_tuple)\n"
      ],
      "execution_count": 15,
      "outputs": [
        {
          "output_type": "stream",
          "name": "stdout",
          "text": [
            "('apple', 'banana', 'cherry', 'date', 'elderberry')\n"
          ]
        }
      ]
    },
    {
      "cell_type": "code",
      "metadata": {
        "colab": {
          "base_uri": "https://localhost:8080/"
        },
        "id": "edd2de79",
        "outputId": "86873cc3-3e7f-4236-f674-bb914ece17e6"
      },
      "source": [
        "\n",
        "second_element = fruits_tuple[1]\n",
        "print(f\"The second element of the tuple is: {second_element}\")\n"
      ],
      "execution_count": 16,
      "outputs": [
        {
          "output_type": "stream",
          "name": "stdout",
          "text": [
            "The second element of the tuple is: banana\n"
          ]
        }
      ]
    },
    {
      "cell_type": "code",
      "metadata": {
        "colab": {
          "base_uri": "https://localhost:8080/"
        },
        "id": "e64e73de",
        "outputId": "873a45e8-573f-438e-c2dd-f56f74af7dcc"
      },
      "source": [
        "\n",
        "fruits_list = list(fruits_tuple)\n",
        "print(f\"Converted to list: {fruits_list}\")\n",
        "\n",
        "fruits_list.append(\"fig\")\n",
        "print(f\"List after appending 'fig': {fruits_list}\")\n",
        "\n",
        "fruits_list.remove(\"banana\")\n",
        "print(f\"List after removing 'banana': {fruits_list}\")\n",
        "\n",
        "modified_fruits_tuple = tuple(fruits_list)\n",
        "print(f\"Converted back to tuple: {modified_fruits_tuple}\")"
      ],
      "execution_count": 17,
      "outputs": [
        {
          "output_type": "stream",
          "name": "stdout",
          "text": [
            "Converted to list: ['apple', 'banana', 'cherry', 'date', 'elderberry']\n",
            "List after appending 'fig': ['apple', 'banana', 'cherry', 'date', 'elderberry', 'fig']\n",
            "List after removing 'banana': ['apple', 'cherry', 'date', 'elderberry', 'fig']\n",
            "Converted back to tuple: ('apple', 'cherry', 'date', 'elderberry', 'fig')\n"
          ]
        }
      ]
    },
    {
      "cell_type": "markdown",
      "source": [
        "## 3.**Sets**"
      ],
      "metadata": {
        "id": "VagGO1WX6ZGW"
      }
    },
    {
      "cell_type": "code",
      "source": [
        "set1 = {1, 2, 3, 4, 5}\n",
        "set2 = {4, 5, 6, 7, 8}\n",
        "\n",
        "print(f\"Set 1: {set1}\")\n",
        "print(f\"Set 2: {set2}\")"
      ],
      "metadata": {
        "colab": {
          "base_uri": "https://localhost:8080/"
        },
        "id": "fup7KxtRExQx",
        "outputId": "1d04dd21-595b-4e9a-c827-3beba606ad32"
      },
      "execution_count": 18,
      "outputs": [
        {
          "output_type": "stream",
          "name": "stdout",
          "text": [
            "Set 1: {1, 2, 3, 4, 5}\n",
            "Set 2: {4, 5, 6, 7, 8}\n"
          ]
        }
      ]
    },
    {
      "cell_type": "code",
      "metadata": {
        "colab": {
          "base_uri": "https://localhost:8080/"
        },
        "id": "2c39f83a",
        "outputId": "01952499-7520-4601-8771-46fcb00c83bd"
      },
      "source": [
        "set_union = set1.union(set2)\n",
        "print(f\"Union of Set 1 and Set 2: {set_union}\")\n",
        "\n",
        "set_intersection = set1.intersection(set2)\n",
        "print(f\"Intersection of Set 1 and Set 2: {set_intersection}\")\n",
        "\n",
        "set_difference1 = set1.difference(set2)\n",
        "print(f\"Difference (Set1 - Set2): {set_difference1}\")\n",
        "\n",
        "set_difference2 = set2.difference(set1)\n",
        "print(f\"Difference (Set2 - Set1): {set_difference2}\")"
      ],
      "execution_count": 19,
      "outputs": [
        {
          "output_type": "stream",
          "name": "stdout",
          "text": [
            "Union of Set 1 and Set 2: {1, 2, 3, 4, 5, 6, 7, 8}\n",
            "Intersection of Set 1 and Set 2: {4, 5}\n",
            "Difference (Set1 - Set2): {1, 2, 3}\n",
            "Difference (Set2 - Set1): {8, 6, 7}\n"
          ]
        }
      ]
    },
    {
      "cell_type": "markdown",
      "source": [
        "# 4.**Dictionaries**"
      ],
      "metadata": {
        "id": "mpkCXvG66jDe"
      }
    },
    {
      "cell_type": "code",
      "metadata": {
        "colab": {
          "base_uri": "https://localhost:8080/"
        },
        "id": "57c60a8a",
        "outputId": "cc172e4d-5cf8-41cd-a201-2ac0de5f5cb7"
      },
      "source": [
        "student_marks = {\n",
        "    \"Ali\": 85,\n",
        "    \"Babar\": 92,\n",
        "    \"Ahmad\": 78,\n",
        "    \"Zain\": 95,\n",
        "    \"Mohid\": 88\n",
        "}\n",
        "\n",
        "print(\"Initial dictionary:\")\n",
        "print(student_marks)"
      ],
      "execution_count": 25,
      "outputs": [
        {
          "output_type": "stream",
          "name": "stdout",
          "text": [
            "Initial dictionary:\n",
            "{'Ali': 85, 'Babar': 92, 'Ahmad': 78, 'Zain': 95, 'Mohid': 88}\n"
          ]
        }
      ]
    },
    {
      "cell_type": "code",
      "metadata": {
        "colab": {
          "base_uri": "https://localhost:8080/"
        },
        "id": "7c5d22b3",
        "outputId": "e63705ba-a26e-4b5b-bb97-287c8f878754"
      },
      "source": [
        "print(\"\\nKeys in the dictionary:\")\n",
        "for key in student_marks.keys():\n",
        "    print(key)\n",
        "\n",
        "print(\"\\nValues in the dictionary:\")\n",
        "for value in student_marks.values():\n",
        "    print(value)\n",
        "\n",
        "print(\"\\nKey-value pairs in the dictionary:\")\n",
        "for key, value in student_marks.items():\n",
        "    print(f\"{key}: {value}\")"
      ],
      "execution_count": 26,
      "outputs": [
        {
          "output_type": "stream",
          "name": "stdout",
          "text": [
            "\n",
            "Keys in the dictionary:\n",
            "Ali\n",
            "Babar\n",
            "Ahmad\n",
            "Zain\n",
            "Mohid\n",
            "\n",
            "Values in the dictionary:\n",
            "85\n",
            "92\n",
            "78\n",
            "95\n",
            "88\n",
            "\n",
            "Key-value pairs in the dictionary:\n",
            "Ali: 85\n",
            "Babar: 92\n",
            "Ahmad: 78\n",
            "Zain: 95\n",
            "Mohid: 88\n"
          ]
        }
      ]
    },
    {
      "cell_type": "code",
      "metadata": {
        "colab": {
          "base_uri": "https://localhost:8080/"
        },
        "id": "a555184e",
        "outputId": "8a46c44d-c70f-4d1b-c900-3c992f07a709"
      },
      "source": [
        "student_marks[\"Ali\"] = 90\n",
        "print(\"\\nDictionary after updating Ali's marks:\")\n",
        "print(student_marks)"
      ],
      "execution_count": 29,
      "outputs": [
        {
          "output_type": "stream",
          "name": "stdout",
          "text": [
            "\n",
            "Dictionary after updating Ali's marks:\n",
            "{'Ali': 90, 'Babar': 92, 'Zain': 95, 'Mohid': 88}\n"
          ]
        }
      ]
    },
    {
      "cell_type": "code",
      "metadata": {
        "colab": {
          "base_uri": "https://localhost:8080/"
        },
        "id": "ab261bc7",
        "outputId": "e5f0df2a-e8b8-41d8-da8b-dd16a514d96c"
      },
      "source": [
        "del student_marks[\"Ahmad\"]\n",
        "print(\"\\nDictionary after deleting Ahmad:\")\n",
        "print(student_marks)"
      ],
      "execution_count": 28,
      "outputs": [
        {
          "output_type": "stream",
          "name": "stdout",
          "text": [
            "\n",
            "Dictionary after deleting Ahmad:\n",
            "{'Ali': 85, 'Babar': 92, 'Zain': 95, 'Mohid': 88}\n"
          ]
        }
      ]
    },
    {
      "cell_type": "code",
      "metadata": {
        "colab": {
          "base_uri": "https://localhost:8080/"
        },
        "id": "a8419bd6",
        "outputId": "fdbc559f-5c5d-4b7f-ff25-3ac2973a3b5b"
      },
      "source": [
        "key_to_check = \"Zain\"\n",
        "if key_to_check in student_marks:\n",
        "    print(f\"\\n'{key_to_check}' exists in the dictionary.\")\n",
        "else:\n",
        "    print(f\"\\n'{key_to_check}' does not exist in the dictionary.\")\n",
        "\n",
        "key_to_check = \"Ahmad\"\n",
        "if key_to_check in student_marks:\n",
        "    print(f\"\\n'{key_to_check}' exists in the dictionary.\")\n",
        "else:\n",
        "    print(f\"\\n'{key_to_check}' does not exist in the dictionary.\")"
      ],
      "execution_count": 27,
      "outputs": [
        {
          "output_type": "stream",
          "name": "stdout",
          "text": [
            "\n",
            "'Zain' exists in the dictionary.\n",
            "\n",
            "'Ahmad' exists in the dictionary.\n"
          ]
        }
      ]
    },
    {
      "cell_type": "markdown",
      "source": [],
      "metadata": {
        "id": "UNBZvB316tLu"
      }
    },
    {
      "cell_type": "markdown",
      "source": [],
      "metadata": {
        "id": "vu1IImIU6dyA"
      }
    },
    {
      "cell_type": "markdown",
      "source": [
        "# 5.**Numpy**"
      ],
      "metadata": {
        "id": "qDLojLwg62_T"
      }
    },
    {
      "cell_type": "markdown",
      "source": [
        "# 6.**Matplotlib**"
      ],
      "metadata": {
        "id": "Ne1d9gh168du"
      }
    },
    {
      "cell_type": "markdown",
      "source": [],
      "metadata": {
        "id": "tQM4FsIB7GwE"
      }
    }
  ]
}