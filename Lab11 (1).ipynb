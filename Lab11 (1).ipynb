{
  "nbformat": 4,
  "nbformat_minor": 0,
  "metadata": {
    "colab": {
      "provenance": []
    },
    "kernelspec": {
      "name": "python3",
      "display_name": "Python 3"
    },
    "language_info": {
      "name": "python"
    }
  },
  "cells": [
    {
      "cell_type": "markdown",
      "source": [
        "# **Task 1**"
      ],
      "metadata": {
        "id": "qpYECUeK_5wl"
      }
    },
    {
      "cell_type": "code",
      "source": [
        "import networkx as nx\n",
        "from collections import deque\n",
        "tree = {\n",
        "    'A': ['B','C'],\n",
        "    'B': ['D','E'],\n",
        "    'C': ['F','G'],\n",
        "    'D': [], 'E': [], 'F': [], 'G': []\n",
        "}\n",
        "def bfs_graph(adj, start):\n",
        "    visited = set()\n",
        "    order = []\n",
        "    q = deque([start])\n",
        "    visited.add(start)\n",
        "    while q:\n",
        "        node = q.popleft()\n",
        "        order.append(node)\n",
        "        for nbr in adj.get(node, []):\n",
        "            if nbr not in visited:\n",
        "                visited.add(nbr)\n",
        "                q.append(nbr)\n",
        "    return order\n",
        "def dfs_graph(adj, start):\n",
        "    visited = set()\n",
        "    order = []\n",
        "    def dfs(u):\n",
        "        visited.add(u)\n",
        "        order.append(u)\n",
        "        for v in adj.get(u, []):\n",
        "            if v not in visited:\n",
        "                dfs(v)\n",
        "    dfs(start)\n",
        "    return order\n",
        "print(\"Tree BFS from A:\", bfs_graph(tree, 'A'))\n",
        "print(\"Tree DFS from A:\", dfs_graph(tree, 'A'))\n",
        "G = nx.Graph()\n",
        "edges = [('A','B'),('A','C'),('B','D'),('B','E'),('C','F'),('C','G'),('E','F')]\n",
        "G.add_edges_from(edges)\n",
        "def bfs_nx(G, start):\n",
        "    visited = set([start])\n",
        "    q = deque([start])\n",
        "    order = []\n",
        "    while q:\n",
        "        u = q.popleft()\n",
        "        order.append(u)\n",
        "        for v in sorted(G.neighbors(u)):\n",
        "            if v not in visited:\n",
        "                visited.add(v)\n",
        "                q.append(v)\n",
        "    return order\n",
        "def dfs_nx(G, start):\n",
        "    visited = set()\n",
        "    order = []\n",
        "    def dfs(u):\n",
        "        visited.add(u)\n",
        "        order.append(u)\n",
        "        for v in sorted(G.neighbors(u)):\n",
        "            if v not in visited:\n",
        "                dfs(v)\n",
        "    dfs(start)\n",
        "    return order\n",
        "print(\"\\\\nGraph BFS from A:\", bfs_nx(G, 'A'))\n",
        "print(\"Graph DFS from A:\", dfs_nx(G, 'A'))"
      ],
      "metadata": {
        "colab": {
          "base_uri": "https://localhost:8080/"
        },
        "id": "_0dJ5fmgGENg",
        "outputId": "decdacaa-0b1c-48ed-b07b-e414b6ac9e32"
      },
      "execution_count": 1,
      "outputs": [
        {
          "output_type": "stream",
          "name": "stdout",
          "text": [
            "Tree BFS from A: ['A', 'B', 'C', 'D', 'E', 'F', 'G']\n",
            "Tree DFS from A: ['A', 'B', 'D', 'E', 'C', 'F', 'G']\n",
            "\\nGraph BFS from A: ['A', 'B', 'C', 'D', 'E', 'F', 'G']\n",
            "Graph DFS from A: ['A', 'B', 'D', 'E', 'F', 'C', 'G']\n"
          ]
        }
      ]
    },
    {
      "cell_type": "markdown",
      "source": [
        "# **Task 2**"
      ],
      "metadata": {
        "id": "AHxuYJDsACJT"
      }
    },
    {
      "cell_type": "code",
      "source": [
        "student = {\n",
        "    \"name\": \"Ali Khan\",\n",
        "    \"age\": 20,\n",
        "    \"roll_number\": \"FA22-BCS-074\",\n",
        "    \"grade\": \"B+\"\n",
        "}\n",
        "print(\"Initial student dict:\")\n",
        "for k, v in student.items():\n",
        "    print(f\"  {k}: {v}\")\n",
        "print(\"\\\\nKeys:\", list(student.keys()))\n",
        "print(\"Values:\", list(student.values()))\n",
        "\n",
        "student[\"grade\"] = \"A-\"\n",
        "student[\"email\"] = \"alikhan@example.com\"\n",
        "del student[\"roll_number\"]\n",
        "\n",
        "print(\"\\\\nFinal student dict:\")\n",
        "for k, v in student.items():\n",
        "    print(f\"  {k}: {v}\")"
      ],
      "metadata": {
        "colab": {
          "base_uri": "https://localhost:8080/"
        },
        "id": "FZTzfdGmMqV_",
        "outputId": "273745e0-cb34-4ad8-f1a6-54c67d140541"
      },
      "execution_count": 2,
      "outputs": [
        {
          "output_type": "stream",
          "name": "stdout",
          "text": [
            "Initial student dict:\n",
            "  name: Ali Khan\n",
            "  age: 20\n",
            "  roll_number: FA22-BCS-074\n",
            "  grade: B+\n",
            "\\nKeys: ['name', 'age', 'roll_number', 'grade']\n",
            "Values: ['Ali Khan', 20, 'FA22-BCS-074', 'B+']\n",
            "\\nFinal student dict:\n",
            "  name: Ali Khan\n",
            "  age: 20\n",
            "  grade: A-\n",
            "  email: alikhan@example.com\n"
          ]
        }
      ]
    },
    {
      "cell_type": "markdown",
      "source": [
        "# ***Task 3***"
      ],
      "metadata": {
        "id": "XlxKAyolASSo"
      }
    },
    {
      "cell_type": "code",
      "source": [
        "import matplotlib.pyplot as plt\n",
        "X = [1,2,3,4,5]\n",
        "Y = [2,4,6,8,10]\n",
        "\n",
        "plt.figure(figsize=(6,4))\n",
        "plt.plot(X, Y, marker='o')\n",
        "plt.title(\"Simple Line Plot\")\n",
        "plt.xlabel(\"X-axis\")\n",
        "plt.ylabel(\"Y-axis\")\n",
        "plt.grid(True)\n",
        "plt.show()"
      ],
      "metadata": {
        "colab": {
          "base_uri": "https://localhost:8080/",
          "height": 410
        },
        "id": "wTlB5dDyMxUw",
        "outputId": "03c01aa4-0037-4da0-a419-183a34e2e5d7"
      },
      "execution_count": 3,
      "outputs": [
        {
          "output_type": "display_data",
          "data": {
            "text/plain": [
              "<Figure size 600x400 with 1 Axes>"
            ],
            "image/png": "[encoded data removed]"
          },
          "metadata": {}
        }
      ]
    },
    {
      "cell_type": "markdown",
      "source": [
        "# ***Task 5***"
      ],
      "metadata": {
        "id": "ly3C1T-tAZoc"
      }
    },
    {
      "cell_type": "code",
      "source": [
        "from collections import deque\n",
        "import time, psutil, os\n",
        "process = psutil.Process(os.getpid())\n",
        "\n",
        "CAP = (3, 5)\n",
        "TARGET = 4\n",
        "\n",
        "def successors(state):\n",
        "    a, b = state\n",
        "    succ = []\n",
        "    succ.append((CAP[0], b))\n",
        "    succ.append((a, CAP[1]))\n",
        "    succ.append((0, b))\n",
        "    succ.append((a, 0))\n",
        "    transfer = min(a, CAP[1]-b)\n",
        "    succ.append((a-transfer, b+transfer))\n",
        "    transfer = min(b, CAP[0]-a)\n",
        "    succ.append((a+transfer, b-transfer))\n",
        "    succ = [s for s in succ if s != state]\n",
        "    uniq = []\n",
        "    for s in succ:\n",
        "        if s not in uniq:\n",
        "            uniq.append(s)\n",
        "    return uniq\n",
        "\n",
        "def bfs_water_jug(start=(0,0)):\n",
        "    start_mem = process.memory_info().rss\n",
        "    t0 = time.time()\n",
        "    q = deque([ (start, [start]) ])\n",
        "    visited = set([start])\n",
        "    expanded = 0\n",
        "    while q:\n",
        "        (state, path) = q.popleft()\n",
        "        expanded += 1\n",
        "        if state[0] == TARGET or state[1] == TARGET:\n",
        "            t1 = time.time()\n",
        "            end_mem = process.memory_info().rss\n",
        "            return {\"path\": path, \"expanded\": expanded, \"time\": t1-t0, \"mem_diff\": end_mem-start_mem}\n",
        "        for s in successors(state):\n",
        "            if s not in visited:\n",
        "                visited.add(s)\n",
        "                q.append((s, path+[s]))\n",
        "    return None\n",
        "\n",
        "def dfs_water_jug(start=(0,0), limit=1000):\n",
        "    start_mem = process.memory_info().rss\n",
        "    t0 = time.time()\n",
        "    stack = [(start, [start])]\n",
        "    visited = set([start])\n",
        "    expanded = 0\n",
        "    while stack:\n",
        "        state, path = stack.pop()\n",
        "        expanded += 1\n",
        "        if state[0] == TARGET or state[1] == TARGET:\n",
        "            t1 = time.time()\n",
        "            end_mem = process.memory_info().rss\n",
        "            return {\"path\": path, \"expanded\": expanded, \"time\": t1-t0, \"mem_diff\": end_mem-start_mem}\n",
        "        for s in successors(state):\n",
        "            if s not in visited:\n",
        "                visited.add(s)\n",
        "                stack.append((s, path+[s]))\n",
        "        if expanded > limit:\n",
        "            break\n",
        "    return None\n",
        "\n",
        "print(\"Running BFS...\")\n",
        "bfs_res = bfs_water_jug((0,0))\n",
        "print(\"BFS result:\", bfs_res)\n",
        "\n",
        "print(\"\\\\nRunning DFS...\")\n",
        "dfs_res = dfs_water_jug((0,0))\n",
        "print(\"DFS result:\", dfs_res)\n",
        "\n",
        "print(\"\\\\nSummary Comparison:\")\n",
        "print(\"BFS - steps expanded:\", bfs_res['expanded'], \"time(s):\", bfs_res['time'], \"mem diff(bytes):\", bfs_res['mem_diff'])\n",
        "print(\"DFS - steps expanded:\", dfs_res['expanded'], \"time(s):\", dfs_res['time'], \"mem diff(bytes):\", dfs_res['mem_diff'])"
      ],
      "metadata": {
        "colab": {
          "base_uri": "https://localhost:8080/"
        },
        "id": "BPdv7BE2My-j",
        "outputId": "0b5734cb-a0bf-4790-b303-837a21924d69"
      },
      "execution_count": 4,
      "outputs": [
        {
          "output_type": "stream",
          "name": "stdout",
          "text": [
            "Running BFS...\n",
            "BFS result: {'path': [(0, 0), (0, 5), (3, 2), (0, 2), (2, 0), (2, 5), (3, 4)], 'expanded': 14, 'time': 7.224082946777344e-05, 'mem_diff': 0}\n",
            "\\nRunning DFS...\n",
            "DFS result: {'path': [(0, 0), (0, 5), (3, 2), (0, 2), (2, 0), (2, 5), (3, 4)], 'expanded': 7, 'time': 3.790855407714844e-05, 'mem_diff': 0}\n",
            "\\nSummary Comparison:\n",
            "BFS - steps expanded: 14 time(s): 7.224082946777344e-05 mem diff(bytes): 0\n",
            "DFS - steps expanded: 7 time(s): 3.790855407714844e-05 mem diff(bytes): 0\n"
          ]
        }
      ]
    },
    {
      "cell_type": "markdown",
      "source": [
        "# ***Task 6***"
      ],
      "metadata": {
        "id": "WAqnumCtAxsc"
      }
    },
    {
      "cell_type": "code",
      "source": [
        "import heapq\n",
        "import matplotlib.pyplot as plt\n",
        "import numpy as np\n",
        "\n",
        "maze = np.array([\n",
        "    [0,0,0,0,0,0],\n",
        "    [0,1,1,1,0,0],\n",
        "    [0,0,0,1,0,0],\n",
        "    [0,1,0,0,0,0],\n",
        "    [0,0,0,1,1,0],\n",
        "    [0,0,0,0,0,0]\n",
        "])\n",
        "\n",
        "start = (0,0)\n",
        "goal = (5,5)\n",
        "\n",
        "def neighbors(node):\n",
        "    x, y = node\n",
        "    for dx, dy in [(1,0),(-1,0),(0,1),(0,-1)]:\n",
        "        nx, ny = x+dx, y+dy\n",
        "        if 0 <= nx < maze.shape[0] and 0 <= ny < maze.shape[1]:\n",
        "            if maze[nx, ny] == 0:\n",
        "                yield (nx, ny)\n",
        "\n",
        "def manhattan(a,b):\n",
        "    return abs(a[0]-b[0]) + abs(a[1]-b[1])\n",
        "\n",
        "def astar(start, goal):\n",
        "    open_set = []\n",
        "    heapq.heappush(open_set, (0+manhattan(start,goal), 0, start, None))\n",
        "    came_from = {}\n",
        "    g_score = {start: 0}\n",
        "    closed = set()\n",
        "    while open_set:\n",
        "        f, g, node, parent = heapq.heappop(open_set)\n",
        "        if node in closed:\n",
        "            continue\n",
        "        came_from[node] = parent\n",
        "        if node == goal:\n",
        "            path = []\n",
        "            cur = node\n",
        "            while cur is not None:\n",
        "                path.append(cur)\n",
        "                cur = came_from[cur]\n",
        "            return list(reversed(path))\n",
        "        closed.add(node)\n",
        "        for nbr in neighbors(node):\n",
        "            tentative_g = g + 1\n",
        "            if nbr in g_score and tentative_g >= g_score[nbr]:\n",
        "                continue\n",
        "            g_score[nbr] = tentative_g\n",
        "            heapq.heappush(open_set, (tentative_g + manhattan(nbr, goal), tentative_g, nbr, node))\n",
        "    return None\n",
        "\n",
        "path = astar(start, goal)\n",
        "print(\"A* path from\", start, \"to\", goal, \":\\n\", path)\n",
        "\n",
        "plt.figure(figsize=(6,6))\n",
        "plt.imshow(maze, cmap='gray_r')\n",
        "if path:\n",
        "    xs = [p[1] for p in path]\n",
        "    ys = [p[0] for p in path]\n",
        "    plt.plot(xs, ys, marker='o')\n",
        "plt.title(\"Maze (white = free) and A* path (if found)\")\n",
        "plt.gca().invert_yaxis()\n",
        "plt.show()"
      ],
      "metadata": {
        "colab": {
          "base_uri": "https://localhost:8080/",
          "height": 580
        },
        "id": "21uZRQ3eM9DY",
        "outputId": "b0f39849-39c5-456c-adb2-b79c7784e3f2"
      },
      "execution_count": 5,
      "outputs": [
        {
          "output_type": "stream",
          "name": "stdout",
          "text": [
            "A* path from (0, 0) to (5, 5) :\n",
            " [(0, 0), (0, 1), (0, 2), (0, 3), (0, 4), (0, 5), (1, 5), (2, 5), (3, 5), (4, 5), (5, 5)]\n"
          ]
        },
        {
          "output_type": "display_data",
          "data": {
            "text/plain": [
              "<Figure size 600x600 with 1 Axes>"
            ],
            "image/png": "[encoded data removed]"
          },
          "metadata": {}
        }
      ]
    }
  ]
}